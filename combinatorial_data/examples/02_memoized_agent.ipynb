{
 "cells": [
  {
   "cell_type": "markdown",
   "metadata": {},
   "source": [
    "# Training a Simple Memoized Agent With Simulation Cache\n",
    "This notebook shows how to use the ```phyre``` API and simulation cache to train a simple memoized agent.\n",
    "\n",
    "For introduction to the ```phyre``` API, see [PHYRE intro notebook](./01_phyre_intro.ipynb)\n",
    "\n",
    "In the random agent example, we explored creating an agent that sampled actions at random from the action space of the tier. An alternate strategy is to have agents select or rank actions from a list of candidates. For this purpose, PHYRE provides a cache of the simulation results of 100k actions per task instance. The 100k actions in the cache are the same across all tasks. By only interacting with cached results of simulations, we can speed up the training process. This notebook shows how to build a simple memoized agent that selects actions based on the historical sucess rate of the action during training.\n",
    "\n",
    "### Run this in colab\n",
    "You can open and play with this notebook in colab. \n",
    "<a href=\"https://colab.research.google.com/github/facebookresearch/phyre/blob/master/examples/02_memoized_agent.ipynb\" target=\"_parent\">Open In Colab</a>"
   ]
  },
  {
   "cell_type": "code",
   "execution_count": 2,
   "metadata": {},
   "outputs": [],
   "source": [
    "# Install phyre and auxiliary packages.\n",
    "# !pip install phyre matplotlib tqdm ipywidgets"
   ]
  },
  {
   "cell_type": "code",
   "execution_count": 2,
   "metadata": {},
   "outputs": [],
   "source": [
    "import functools\n",
    "import multiprocessing\n",
    "import random\n",
    "\n",
    "import matplotlib.pyplot as plt\n",
    "import numpy as np\n",
    "import tqdm\n",
    "\n",
    "import phyre"
   ]
  },
  {
   "cell_type": "code",
   "execution_count": 3,
   "metadata": {},
   "outputs": [],
   "source": [
    "tier = 'ball'\n",
    "eval_setup = 'ball_cross_template'\n",
    "fold_id = 0\n",
    "random.seed(0)"
   ]
  },
  {
   "cell_type": "markdown",
   "metadata": {},
   "source": [
    "# Part 1: The simulation cache\n",
    "Let's explore how to use the simulation cache. To start, let's use the ball tier and evaluate our agent across templates."
   ]
  },
  {
   "cell_type": "markdown",
   "metadata": {},
   "source": [
    "We only use train and dev for building agents. In general test should be reserved for final evaluation of agents."
   ]
  },
  {
   "cell_type": "code",
   "execution_count": 4,
   "metadata": {},
   "outputs": [
    {
     "name": "stdout",
     "output_type": "stream",
     "text": [
      "1600 400 500\n"
     ]
    }
   ],
   "source": [
    "train, dev, test = phyre.get_fold(eval_setup, fold_id)\n",
    "print(len(train), len(dev), len(test))"
   ]
  },
  {
   "cell_type": "markdown",
   "metadata": {},
   "source": [
    "Now let's load the cache. The cache contains 100k actions each simulated on each task in the ball tier."
   ]
  },
  {
   "cell_type": "code",
   "execution_count": 5,
   "metadata": {},
   "outputs": [],
   "source": [
    "cache = phyre.get_default_100k_cache(tier)"
   ]
  },
  {
   "cell_type": "markdown",
   "metadata": {},
   "source": [
    "We can see which actions are cached by looking at the num-cached-actions X action-space ```action_array```. This array is built by `simulator.build_discrete_action_space` with a fixed seed=42."
   ]
  },
  {
   "cell_type": "code",
   "execution_count": 6,
   "metadata": {},
   "outputs": [
    {
     "name": "stdout",
     "output_type": "stream",
     "text": [
      "cache.action_array() and shape: (100000, 3) [[0.5986585  0.15601864 0.15599452]\n",
      " [0.83244264 0.21233912 0.18182497]\n",
      " [0.1834045  0.30424225 0.52475643]\n",
      " ...\n",
      " [0.7356543  0.7556098  0.0149308 ]\n",
      " [0.8846895  0.6563959  0.8496121 ]\n",
      " [0.5163206  0.3238494  0.6627394 ]]\n"
     ]
    }
   ],
   "source": [
    "print('cache.action_array() and shape:', cache.action_array.shape,\n",
    "      cache.action_array)"
   ]
  },
  {
   "cell_type": "markdown",
   "metadata": {},
   "source": [
    "For each task, we can can get a corresponding 1D array of the status of each of the actions in ```action_array``` simulated on the task. The values -1, 0, and 1 corresponds to NOT_SOLVED, INVALID, and SOLVED statuses."
   ]
  },
  {
   "cell_type": "code",
   "execution_count": 7,
   "metadata": {},
   "outputs": [
    {
     "name": "stdout",
     "output_type": "stream",
     "text": [
      "Randomly selected task: 00019:439\n",
      "Cached simulation status of actions on task 00019:439 : (100000,) [-1 -1 -1 ... -1 -1 -1]\n",
      "Share of SOLVED statuses: 0.00053\n"
     ]
    }
   ],
   "source": [
    "# task_id = random.choice(train)\n",
    "task_id = random.choice(test)\n",
    "print('Randomly selected task:', task_id)\n",
    "statuses = cache.load_simulation_states(task_id)\n",
    "print('Cached simulation status of actions on task', task_id, ':',\n",
    "      statuses.shape, statuses)\n",
    "print('Share of SOLVED statuses:', (statuses == phyre.SimulationStatus.SOLVED).mean())"
   ]
  },
  {
   "cell_type": "markdown",
   "metadata": {},
   "source": [
    "Let's verify the status of a random action in the cache."
   ]
  },
  {
   "cell_type": "code",
   "execution_count": 14,
   "metadata": {},
   "outputs": [
    {
     "name": "stdout",
     "output_type": "stream",
     "text": [
      "Cached status is: 1\n",
      "Simulated status is: SimulationStatus.NOT_SOLVED\n",
      "Simulator considers task solved? False\n"
     ]
    }
   ],
   "source": [
    "cached_status = phyre.simulation_cache.INVALID\n",
    "while cached_status != 1:  # Let's make sure we chose a valid action.\n",
    "    action_index = random.randint(0, len(cache))\n",
    "    action = cache.action_array[action_index]\n",
    "    # Get the status for this action from the cache.\n",
    "    cached_status = statuses[action_index]\n",
    "\n",
    "# Now let's create a simulator for this task to simulate the action.\n",
    "simulator = phyre.initialize_simulator([task_id], tier)\n",
    "simulation = simulator.simulate_action(0,\n",
    "                                                     action,\n",
    "                                                     need_images=True)\n",
    "\n",
    "# Let's compare.\n",
    "print('Cached status is:', cached_status)\n",
    "print('Simulated status is:', simulation.status)\n",
    "print('Simulator considers task solved?', simulation.status.is_solved())"
   ]
  },
  {
   "cell_type": "markdown",
   "metadata": {},
   "source": [
    "Let's look at an image of the last state to visually verify if the task is solved."
   ]
  },
  {
   "cell_type": "code",
   "execution_count": 15,
   "metadata": {},
   "outputs": [
    {
     "data": {
      "image/png": "[encoded data removed]",
      "text/plain": [
       "<Figure size 640x480 with 1 Axes>"
      ]
     },
     "metadata": {},
     "output_type": "display_data"
    }
   ],
   "source": [
    "%matplotlib inline\n",
    "img = phyre.vis.observations_to_float_rgb(simulation.images[-1])\n",
    "plt.imshow(img)\n",
    "plt.title(f'End state of action {action}\\n on task {task_id} in {tier} tier')\n",
    "plt.show()"
   ]
  },
  {
   "cell_type": "markdown",
   "metadata": {},
   "source": [
    "Additionally, we can get cached results on a list of tasks. We can also limit the number of actions to the first N in the cache."
   ]
  },
  {
   "cell_type": "code",
   "execution_count": 11,
   "metadata": {},
   "outputs": [
    {
     "name": "stdout",
     "output_type": "stream",
     "text": [
      "The shape of actions in our small cache is (100, 3)\n"
     ]
    }
   ],
   "source": [
    "example_tasks = dev[:100]\n",
    "cache_dict = cache.get_sample(example_tasks, 100)\n",
    "print('The shape of actions in our small cache is',\n",
    "      cache_dict['actions'].shape)"
   ]
  },
  {
   "cell_type": "code",
   "execution_count": 12,
   "metadata": {},
   "outputs": [
    {
     "name": "stdout",
     "output_type": "stream",
     "text": [
      "The number and tasks in our small cache are 100 ('00000:000', '00000:001', '00000:002', '00000:003', '00000:004', '00000:005', '00000:006', '00000:007', '00000:008', '00000:009', '00000:010', '00000:011', '00000:012', '00000:013', '00000:014', '00000:015', '00000:016', '00000:017', '00000:018', '00000:019', '00000:020', '00000:021', '00000:022', '00000:023', '00000:024', '00000:025', '00000:026', '00000:027', '00000:028', '00000:029', '00000:030', '00000:031', '00000:032', '00000:033', '00000:034', '00000:035', '00000:036', '00000:037', '00000:038', '00000:039', '00000:040', '00000:041', '00000:042', '00000:043', '00000:044', '00000:045', '00000:046', '00000:047', '00000:048', '00000:049', '00000:050', '00000:051', '00000:052', '00000:053', '00000:054', '00000:055', '00000:056', '00000:057', '00000:058', '00000:059', '00000:060', '00000:061', '00000:062', '00000:063', '00000:064', '00000:065', '00000:066', '00000:067', '00000:068', '00000:069', '00000:070', '00000:071', '00000:072', '00000:073', '00000:074', '00000:075', '00000:076', '00000:077', '00000:078', '00000:079', '00000:080', '00000:081', '00000:082', '00000:083', '00000:084', '00000:085', '00000:086', '00000:087', '00000:088', '00000:089', '00000:090', '00000:091', '00000:092', '00000:093', '00000:094', '00000:095', '00000:096', '00000:097', '00000:098', '00000:099')\n"
     ]
    }
   ],
   "source": [
    "print('The number and tasks in our small cache are',\n",
    "      len(cache_dict['task_ids']), cache_dict['task_ids'])"
   ]
  },
  {
   "cell_type": "markdown",
   "metadata": {},
   "source": [
    "We also receive a status matrix simulation_statuses of size ```len(cache_dict['task_ids'])``` X ```len(cache_dict['actions'])``` where ```entry[i][j]``` is the status of simulating action ```cache_dict['actions'][j]``` on task id ```cache_dict['task_ids'][i]```"
   ]
  },
  {
   "cell_type": "code",
   "execution_count": 13,
   "metadata": {},
   "outputs": [
    {
     "name": "stdout",
     "output_type": "stream",
     "text": [
      "Simulation cache and shape (100, 100) [[-1 -1 -1 ... -1 -1 -1]\n",
      " [-1 -1  0 ... -1 -1 -1]\n",
      " [-1 -1 -1 ...  1 -1 -1]\n",
      " ...\n",
      " [-1 -1 -1 ... -1 -1 -1]\n",
      " [-1 -1  0 ... -1 -1 -1]\n",
      " [-1 -1 -1 ... -1 -1 -1]]\n"
     ]
    }
   ],
   "source": [
    "print('Simulation cache and shape', cache_dict['simulation_statuses'].shape,\n",
    "      cache_dict['simulation_statuses'])"
   ]
  },
  {
   "cell_type": "markdown",
   "metadata": {},
   "source": [
    "We can visualize the status of the different actions on the tasks. In the visualization, each row corresponds to a specific task and each column to an action.\n",
    "\n",
    "|Color|Simulation Status|\n",
    "| :-------------: | :----------:|\n",
    "|Purple|Not Solved|\n",
    "|Yellow|Invalid Input|\n",
    "|Green|Solved|"
   ]
  },
  {
   "cell_type": "code",
   "execution_count": 14,
   "metadata": {},
   "outputs": [
    {
     "data": {
      "image/png": "[encoded data removed]",
      "text/plain": [
       "<Figure size 432x288 with 1 Axes>"
      ]
     },
     "metadata": {
      "needs_background": "light"
     },
     "output_type": "display_data"
    }
   ],
   "source": [
    "plt.imshow(cache_dict['simulation_statuses'], interpolation='nearest')\n",
    "plt.title('Cache visualization')\n",
    "plt.show()"
   ]
  },
  {
   "cell_type": "markdown",
   "metadata": {
    "lines_to_next_cell": 2
   },
   "source": [
    "# Part 2: Memoized Agent\n",
    "\n",
    "We now build our agent. We will build a simple memoized agent. At training, the agent ranks actions based on the percentage of training tasks it solves. At test time, the agent uses the first ```max_attempts_per_task``` valid actions on each task in order of their rank.\n",
    "\n",
    "As we are evaluating the performance across templates, the agent will have had no experience on any of the task templates in the test set, so the ranking of actions is the same accross templates."
   ]
  },
  {
   "cell_type": "code",
   "execution_count": 15,
   "metadata": {},
   "outputs": [],
   "source": [
    "def train_memo_agent(train_tasks, cache, max_actions_to_rank=None):\n",
    "    cache_sample = cache.get_sample(train_tasks, max_actions_to_rank)\n",
    "    sim_statuses = cache_sample['simulation_statuses']\n",
    "    positive = (sim_statuses.astype('float32') > 0).sum(0)\n",
    "    negative = (sim_statuses.astype('float32') < 0).sum(0)\n",
    "    denominators = positive + negative + 1\n",
    "    action_scores = positive / denominators\n",
    "    # Return indices in order of the % tasks in the training set that the action solves.\n",
    "    ordered_actions = action_scores.argsort()[::-1]\n",
    "    return ordered_actions\n",
    "\n",
    "\n",
    "def eval_memo_agent(eval_task_ids,\n",
    "                    cache,\n",
    "                    ordered_actions,\n",
    "                    max_attempts_per_task,\n",
    "                    n=1):\n",
    "    # Evaluation of this agent is simple: record the status of the first max_attempts_per_task\n",
    "    # valid actions on each task.\n",
    "    evaluator = phyre.Evaluator(eval_task_ids)\n",
    "    for task_index, task_id in tqdm.tqdm_notebook(\n",
    "            enumerate(eval_task_ids),\n",
    "            total=len(eval_task_ids),\n",
    "            position=n,\n",
    "            desc=f'Evaluate memo agent'):\n",
    "        statuses = cache.load_simulation_states(task_id)\n",
    "        for action_index in ordered_actions:\n",
    "            status = phyre.SimulationStatus(statuses[action_index])\n",
    "            evaluator.maybe_log_attempt(task_index, status)\n",
    "            if evaluator.get_attempts_for_task(\n",
    "                    task_index) >= max_attempts_per_task:\n",
    "                break\n",
    "    return evaluator"
   ]
  },
  {
   "cell_type": "markdown",
   "metadata": {},
   "source": [
    "We can train and evaluate our agent, ranking all 100k actions."
   ]
  },
  {
   "cell_type": "code",
   "execution_count": 16,
   "metadata": {},
   "outputs": [
    {
     "name": "stderr",
     "output_type": "stream",
     "text": [
      "/mnt/bn/yueyang/miniconda/envs/phyre/lib/python3.6/site-packages/ipykernel_launcher.py:25: TqdmDeprecationWarning: This function will be removed in tqdm==5.0.0\n",
      "Please use `tqdm.notebook.tqdm` instead of `tqdm.tqdm_notebook`\n"
     ]
    },
    {
     "data": {
      "application/vnd.jupyter.widget-view+json": {
       "model_id": "d6321eb6de644151a27a7e086b7db75d",
       "version_major": 2,
       "version_minor": 0
      },
      "text/plain": [
       "Evaluate memo agent:   0%|          | 0/400 [00:00<?, ?it/s]"
      ]
     },
     "metadata": {},
     "output_type": "display_data"
    },
    {
     "name": "stdout",
     "output_type": "stream",
     "text": [
      "AUCESS after 100 attempts on dev set 0.09299969491290087\n"
     ]
    }
   ],
   "source": [
    "ordered_actions = train_memo_agent(train, cache)\n",
    "evaluator = eval_memo_agent(dev, cache, ordered_actions,\n",
    "                            phyre.MAX_TEST_ATTEMPTS)\n",
    "\n",
    "print('AUCESS after 100 attempts on dev set', evaluator.get_aucess())"
   ]
  },
  {
   "cell_type": "markdown",
   "metadata": {},
   "source": [
    "We now explore the relationship between the number of actions that we rank and the performance of the agent.\n"
   ]
  },
  {
   "cell_type": "code",
   "execution_count": 17,
   "metadata": {},
   "outputs": [
    {
     "name": "stderr",
     "output_type": "stream",
     "text": [
      "/mnt/bn/yueyang/miniconda/envs/phyre/lib/python3.6/site-packages/ipykernel_launcher.py:26: TqdmDeprecationWarning: This function will be removed in tqdm==5.0.0\n",
      "Please use `tqdm.notebook.tqdm` instead of `tqdm.tqdm_notebook`\n"
     ]
    },
    {
     "data": {
      "application/vnd.jupyter.widget-view+json": {
       "model_id": "2894c480cdd6488eae05a8b3953b9c57",
       "version_major": 2,
       "version_minor": 0
      },
      "text/plain": [
       "Evaluate all memo sizes:   0%|          | 0/10 [00:00<?, ?it/s]"
      ]
     },
     "metadata": {},
     "output_type": "display_data"
    },
    {
     "name": "stderr",
     "output_type": "stream",
     "text": [
      "/mnt/bn/yueyang/miniconda/envs/phyre/lib/python3.6/site-packages/ipykernel_launcher.py:25: TqdmDeprecationWarning: This function will be removed in tqdm==5.0.0\n",
      "Please use `tqdm.notebook.tqdm` instead of `tqdm.tqdm_notebook`\n"
     ]
    },
    {
     "data": {
      "application/vnd.jupyter.widget-view+json": {
       "model_id": "62d11a8eba04477a86a953dd1aa371be",
       "version_major": 2,
       "version_minor": 0
      },
      "text/plain": [
       "Evaluate memo agent:   0%|          | 0/400 [00:00<?, ?it/s]"
      ]
     },
     "metadata": {},
     "output_type": "display_data"
    },
    {
     "name": "stderr",
     "output_type": "stream",
     "text": [
      "WARNING:phyre.metrics:Used 0.895000 attempts per task instead of maximum allowed 100.000000. That probably indicate a bug in evaluation loop.\n",
      "/mnt/bn/yueyang/miniconda/envs/phyre/lib/python3.6/site-packages/ipykernel_launcher.py:25: TqdmDeprecationWarning: This function will be removed in tqdm==5.0.0\n",
      "Please use `tqdm.notebook.tqdm` instead of `tqdm.tqdm_notebook`\n"
     ]
    },
    {
     "data": {
      "application/vnd.jupyter.widget-view+json": {
       "model_id": "6c2704a1d5d947608d57e61051f44917",
       "version_major": 2,
       "version_minor": 0
      },
      "text/plain": [
       "Evaluate memo agent:   0%|          | 0/400 [00:00<?, ?it/s]"
      ]
     },
     "metadata": {},
     "output_type": "display_data"
    },
    {
     "name": "stderr",
     "output_type": "stream",
     "text": [
      "WARNING:phyre.metrics:Used 2.730000 attempts per task instead of maximum allowed 100.000000. That probably indicate a bug in evaluation loop.\n",
      "/mnt/bn/yueyang/miniconda/envs/phyre/lib/python3.6/site-packages/ipykernel_launcher.py:25: TqdmDeprecationWarning: This function will be removed in tqdm==5.0.0\n",
      "Please use `tqdm.notebook.tqdm` instead of `tqdm.tqdm_notebook`\n"
     ]
    },
    {
     "data": {
      "application/vnd.jupyter.widget-view+json": {
       "model_id": "4241884d141842efb099e3d90761622e",
       "version_major": 2,
       "version_minor": 0
      },
      "text/plain": [
       "Evaluate memo agent:   0%|          | 0/400 [00:00<?, ?it/s]"
      ]
     },
     "metadata": {},
     "output_type": "display_data"
    },
    {
     "name": "stderr",
     "output_type": "stream",
     "text": [
      "WARNING:phyre.metrics:Used 9.730000 attempts per task instead of maximum allowed 100.000000. That probably indicate a bug in evaluation loop.\n",
      "/mnt/bn/yueyang/miniconda/envs/phyre/lib/python3.6/site-packages/ipykernel_launcher.py:25: TqdmDeprecationWarning: This function will be removed in tqdm==5.0.0\n",
      "Please use `tqdm.notebook.tqdm` instead of `tqdm.tqdm_notebook`\n"
     ]
    },
    {
     "data": {
      "application/vnd.jupyter.widget-view+json": {
       "model_id": "7fb1904b55394154b668b52e6d9fb265",
       "version_major": 2,
       "version_minor": 0
      },
      "text/plain": [
       "Evaluate memo agent:   0%|          | 0/400 [00:00<?, ?it/s]"
      ]
     },
     "metadata": {},
     "output_type": "display_data"
    },
    {
     "name": "stderr",
     "output_type": "stream",
     "text": [
      "WARNING:phyre.metrics:Used 38.145000 attempts per task instead of maximum allowed 100.000000. That probably indicate a bug in evaluation loop.\n",
      "/mnt/bn/yueyang/miniconda/envs/phyre/lib/python3.6/site-packages/ipykernel_launcher.py:25: TqdmDeprecationWarning: This function will be removed in tqdm==5.0.0\n",
      "Please use `tqdm.notebook.tqdm` instead of `tqdm.tqdm_notebook`\n"
     ]
    },
    {
     "data": {
      "application/vnd.jupyter.widget-view+json": {
       "model_id": "bc96f05d0b3743f383255a30c32a5cbf",
       "version_major": 2,
       "version_minor": 0
      },
      "text/plain": [
       "Evaluate memo agent:   0%|          | 0/400 [00:00<?, ?it/s]"
      ]
     },
     "metadata": {},
     "output_type": "display_data"
    },
    {
     "name": "stderr",
     "output_type": "stream",
     "text": [
      "WARNING:phyre.metrics:Used 99.990000 attempts per task instead of maximum allowed 100.000000. That probably indicate a bug in evaluation loop.\n",
      "/mnt/bn/yueyang/miniconda/envs/phyre/lib/python3.6/site-packages/ipykernel_launcher.py:25: TqdmDeprecationWarning: This function will be removed in tqdm==5.0.0\n",
      "Please use `tqdm.notebook.tqdm` instead of `tqdm.tqdm_notebook`\n"
     ]
    },
    {
     "data": {
      "application/vnd.jupyter.widget-view+json": {
       "model_id": "44ab180889fb483c9bdce4edd18e7900",
       "version_major": 2,
       "version_minor": 0
      },
      "text/plain": [
       "Evaluate memo agent:   0%|          | 0/400 [00:00<?, ?it/s]"
      ]
     },
     "metadata": {},
     "output_type": "display_data"
    },
    {
     "name": "stderr",
     "output_type": "stream",
     "text": [
      "/mnt/bn/yueyang/miniconda/envs/phyre/lib/python3.6/site-packages/ipykernel_launcher.py:25: TqdmDeprecationWarning: This function will be removed in tqdm==5.0.0\n",
      "Please use `tqdm.notebook.tqdm` instead of `tqdm.tqdm_notebook`\n"
     ]
    },
    {
     "data": {
      "application/vnd.jupyter.widget-view+json": {
       "model_id": "9c74d1bd00fb4377b893bbd86e11e052",
       "version_major": 2,
       "version_minor": 0
      },
      "text/plain": [
       "Evaluate memo agent:   0%|          | 0/400 [00:00<?, ?it/s]"
      ]
     },
     "metadata": {},
     "output_type": "display_data"
    },
    {
     "name": "stderr",
     "output_type": "stream",
     "text": [
      "/mnt/bn/yueyang/miniconda/envs/phyre/lib/python3.6/site-packages/ipykernel_launcher.py:25: TqdmDeprecationWarning: This function will be removed in tqdm==5.0.0\n",
      "Please use `tqdm.notebook.tqdm` instead of `tqdm.tqdm_notebook`\n"
     ]
    },
    {
     "data": {
      "application/vnd.jupyter.widget-view+json": {
       "model_id": "9c3501c8a093454798efdae6fcc56282",
       "version_major": 2,
       "version_minor": 0
      },
      "text/plain": [
       "Evaluate memo agent:   0%|          | 0/400 [00:00<?, ?it/s]"
      ]
     },
     "metadata": {},
     "output_type": "display_data"
    },
    {
     "name": "stderr",
     "output_type": "stream",
     "text": [
      "/mnt/bn/yueyang/miniconda/envs/phyre/lib/python3.6/site-packages/ipykernel_launcher.py:25: TqdmDeprecationWarning: This function will be removed in tqdm==5.0.0\n",
      "Please use `tqdm.notebook.tqdm` instead of `tqdm.tqdm_notebook`\n"
     ]
    },
    {
     "data": {
      "application/vnd.jupyter.widget-view+json": {
       "model_id": "b1016ff4725e4d4eb54e37cc76b2c6d6",
       "version_major": 2,
       "version_minor": 0
      },
      "text/plain": [
       "Evaluate memo agent:   0%|          | 0/400 [00:00<?, ?it/s]"
      ]
     },
     "metadata": {},
     "output_type": "display_data"
    },
    {
     "name": "stderr",
     "output_type": "stream",
     "text": [
      "/mnt/bn/yueyang/miniconda/envs/phyre/lib/python3.6/site-packages/ipykernel_launcher.py:25: TqdmDeprecationWarning: This function will be removed in tqdm==5.0.0\n",
      "Please use `tqdm.notebook.tqdm` instead of `tqdm.tqdm_notebook`\n"
     ]
    },
    {
     "data": {
      "application/vnd.jupyter.widget-view+json": {
       "model_id": "bed29a2313674ba1967457d7302f6fcc",
       "version_major": 2,
       "version_minor": 0
      },
      "text/plain": [
       "Evaluate memo agent:   0%|          | 0/400 [00:00<?, ?it/s]"
      ]
     },
     "metadata": {},
     "output_type": "display_data"
    }
   ],
   "source": [
    "memo_sizes = np.logspace(0, 5, 10).astype(int)\n",
    "\n",
    "\n",
    "def worker(memo_size, train, dev, cache, max_attempts):\n",
    "    index = 1 + np.where(memo_sizes == memo_size)[0][0]\n",
    "    ordered_actions = train_memo_agent(train, cache, memo_size)\n",
    "    evaluator = eval_memo_agent(dev, cache, ordered_actions, max_attempts,\n",
    "                                index)\n",
    "    return memo_size, evaluator.get_aucess()\n",
    "\n",
    "\n",
    "# We use 10 threads to speed up the training process.\n",
    "pool = multiprocessing.Pool(10)\n",
    "partial_worker = functools.partial(\n",
    "    worker,\n",
    "    train=train,\n",
    "    dev=dev,\n",
    "    cache=cache,\n",
    "    max_attempts=phyre.MAX_TEST_ATTEMPTS,\n",
    ")\n",
    "# NOTE: This can take ~ 2 minutes to run.\n",
    "results = list(\n",
    "    tqdm.tqdm_notebook(\n",
    "        pool.imap(partial_worker, memo_sizes),\n",
    "        total=len(memo_sizes),\n",
    "        desc='Evaluate all memo sizes'))"
   ]
  },
  {
   "cell_type": "markdown",
   "metadata": {},
   "source": [
    "We graph the relationship between the number of ranked action, and AUCESS of the trained agent on the dev set."
   ]
  },
  {
   "cell_type": "code",
   "execution_count": 18,
   "metadata": {},
   "outputs": [
    {
     "data": {
      "image/png": "[encoded data removed]",
      "text/plain": [
       "<Figure size 432x288 with 1 Axes>"
      ]
     },
     "metadata": {
      "needs_background": "light"
     },
     "output_type": "display_data"
    }
   ],
   "source": [
    "sizes, aucess = zip(*results)\n",
    "plt.scatter(sizes, aucess)\n",
    "plt.xscale('log')\n",
    "plt.xlabel('Number of actions ranked by agent')\n",
    "plt.ylabel('AUCESS after 100 attempts on dev set')\n",
    "plt.show()"
   ]
  },
  {
   "cell_type": "markdown",
   "metadata": {},
   "source": [
    "We note that the AUCESS plateaus, and eventually decrases after ranking a number of actions. This is due to a lack of diversity in the solutions required to solve some subsets of tasks. Some actions solve a large number of (easy) tasks, but the same subset of tasks. By ranking too many actions from the cache we risk having all the top performing actions (the 100 actions the memo agent chooses) all solve the same subset of tasks in the training set."
   ]
  }
 ],
 "metadata": {
  "jupytext": {
   "formats": "ipynb,py:light",
   "main_language": "python",
   "notebook_metadata_filter": "jupytext,-kernelspec"
  },
  "kernelspec": {
   "display_name": "Python 3",
   "language": "python",
   "name": "python3"
  },
  "language_info": {
   "codemirror_mode": {
    "name": "ipython",
    "version": 3
   },
   "file_extension": ".py",
   "mimetype": "text/x-python",
   "name": "python",
   "nbconvert_exporter": "python",
   "pygments_lexer": "ipython3",
   "version": "3.9.18"
  }
 },
 "nbformat": 4,
 "nbformat_minor": 2
}
